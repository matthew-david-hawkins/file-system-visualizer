{
 "cells": [
  {
   "cell_type": "code",
   "execution_count": 64,
   "metadata": {},
   "outputs": [],
   "source": [
    "import os\n",
    "from os import scandir, walk\n",
    "import json\n",
    "from pprint import pprint"
   ]
  },
  {
   "cell_type": "code",
   "execution_count": 65,
   "metadata": {},
   "outputs": [],
   "source": [
    "def scantree(path):\n",
    "    \"\"\"Recursively yield DirEntry objects for given directory.\"\"\"\n",
    "    for entry in scandir(path):\n",
    "        if entry.is_dir(follow_symlinks=False):\n",
    "            yield from scantree(entry.path)\n",
    "        else:\n",
    "            if entry.name.endswith(\".json\") and not entry.name.endswith(\".GMB.json\"):\n",
    "                yield entry"
   ]
  },
  {
   "cell_type": "code",
   "execution_count": 66,
   "metadata": {},
   "outputs": [
    {
     "name": "stdout",
     "output_type": "stream",
     "text": [
      "C:/EsscorFiles/Bowen1\\AuxBoiler4\\19 Common 08 Aux_Boiler 01 Auxiliary Boiler No 4.json\n",
      "C:/EsscorFiles/Bowen1\\AuxBoiler4\\19 Common 08 Aux_Boiler 02 Auxiliary Boiler No 4_Fuel.json\n",
      "C:/EsscorFiles/Bowen1\\AuxBoiler4\\19 Common 08 Aux_Boiler 04 Auxiliary Boiler No 4_SVal.json\n",
      "C:/EsscorFiles/Bowen1\\AuxBoiler4\\__All Common Instructor Functions.json\n",
      "C:/EsscorFiles/Bowen1\\AuxBoiler4\\___Essential Start Up Boiler No 4 Instructor Functions.json\n",
      "C:/EsscorFiles/Bowen1\\data_historian.json\n",
      "C:/EsscorFiles/Bowen1\\Dynsim\\18 Modeling 01 Furnace HMB.json\n",
      "C:/EsscorFiles/Bowen1\\DynsimFGD\\00 Electrical 02 Common Duplicate.json\n",
      "C:/EsscorFiles/Bowen1\\DynsimFGD\\14 Scrubber 00 JBR.json\n",
      "C:/EsscorFiles/Bowen1\\DynsimFGD\\14 Scrubber 01 Gas Cooling.json\n",
      "C:/EsscorFiles/Bowen1\\DynsimFGD\\14 Scrubber 02 Oxidation Air.json\n",
      "C:/EsscorFiles/Bowen1\\DynsimFGD\\14 Scrubber 03 Gypsum Drawoff.json\n",
      "C:/EsscorFiles/Bowen1\\DynsimFGD\\14 Scrubber 04 MRCS.json\n",
      "C:/EsscorFiles/Bowen1\\DynsimFGD\\15 Scrubber_Aux 00 Bearing Vib and Temp.json\n",
      "C:/EsscorFiles/Bowen1\\DynsimFGD\\15 Scrubber_Aux 01 Gas Cooling Lube Oil.json\n",
      "C:/EsscorFiles/Bowen1\\DynsimFGD\\15 Scrubber_Aux 02 Bypass Damper.json\n",
      "C:/EsscorFiles/Bowen1\\Dynsim_AQC\\11 SAMC 00 Day Bin.json\n",
      "C:/EsscorFiles/Bowen1\\Dynsim_AQC\\11 SAMC 01 Duct Injection.json\n",
      "C:/EsscorFiles/Bowen1\\Dynsim_AQC\\11 SAMC 02 Injection Blowers.json\n",
      "C:/EsscorFiles/Bowen1\\Dynsim_AQC\\12 ACI 00 ACI Feeders.json\n",
      "C:/EsscorFiles/Bowen1\\Dynsim_AQC\\12 ACI 01 Blowers.json\n",
      "C:/EsscorFiles/Bowen1\\Dynsim_AQC\\12 ACI 02 Duct Injection.json\n",
      "C:/EsscorFiles/Bowen1\\Dynsim_AQC\\13 HLI 00 Day Bins.json\n",
      "C:/EsscorFiles/Bowen1\\Dynsim_AQC\\13 HLI 01 Duct Injection.json\n",
      "C:/EsscorFiles/Bowen1\\Dynsim_AQC\\13 HLI 02 Injection Blowers.json\n",
      "C:/EsscorFiles/Bowen1\\Dynsim_AQC\\18 Modeling 02 Bus Dummy.json\n",
      "C:/EsscorFiles/Bowen1\\Dynsim_AUX_Steam\\19 Common 08 Aux_Boiler 00 Common Header.json\n",
      "C:/EsscorFiles/Bowen1\\Dynsim_AUX_Steam\\19 Common 08 Aux_Boiler 03 NH3 Storage.json\n",
      "C:/EsscorFiles/Bowen1\\Dynsim_AUX_Steam\\19 Common 08 Aux_Boiler 05 Auxiliary Boiler No 2.json\n",
      "C:/EsscorFiles/Bowen1\\Dynsim_AUX_Steam\\19 Common 08 Aux_Boiler 06 Auxiliary Boiler No 3.json\n",
      "C:/EsscorFiles/Bowen1\\Dynsim_CMN\\19 Common 00 Electrical.json\n",
      "C:/EsscorFiles/Bowen1\\Dynsim_CMN\\19 Common 01 Limestone 00 Limestone Hopper.json\n",
      "C:/EsscorFiles/Bowen1\\Dynsim_CMN\\19 Common 01 Limestone 01 Air Compressors.json\n",
      "C:/EsscorFiles/Bowen1\\Dynsim_CMN\\19 Common 01 Limestone 01 Limestone Conveyors.json\n",
      "C:/EsscorFiles/Bowen1\\Dynsim_CMN\\19 Common 01 Limestone 02 Limestone Feed A.json\n",
      "C:/EsscorFiles/Bowen1\\Dynsim_CMN\\19 Common 01 Limestone 03 Limestone Feed B.json\n",
      "C:/EsscorFiles/Bowen1\\Dynsim_CMN\\19 Common 01 Limestone 04 Limestone Feed C.json\n",
      "C:/EsscorFiles/Bowen1\\Dynsim_CMN\\19 Common 01 Limestone 05 Slurry Transfer.json\n",
      "C:/EsscorFiles/Bowen1\\Dynsim_CMN\\19 Common 01 Limestone 06 Slurry Storage.json\n",
      "C:/EsscorFiles/Bowen1\\Dynsim_CMN\\19 Common 01 Limestone 07 Ball Mill Lube Oil.json\n",
      "C:/EsscorFiles/Bowen1\\Dynsim_CMN\\19 Common 02 Gypsum 00 U1_2 Gypsum Transfer.json\n",
      "C:/EsscorFiles/Bowen1\\Dynsim_CMN\\19 Common 02 Gypsum 01 U3_4 Gypsum Transfer.json\n",
      "C:/EsscorFiles/Bowen1\\Dynsim_CMN\\19 Common 02 Gypsum 02 Filtered Water.json\n",
      "C:/EsscorFiles/Bowen1\\Dynsim_CMN\\19 Common 02 Gypsum 03 Dewatering A.json\n",
      "C:/EsscorFiles/Bowen1\\Dynsim_CMN\\19 Common 02 Gypsum 04 Dewatering B.json\n",
      "C:/EsscorFiles/Bowen1\\Dynsim_CMN\\19 Common 02 Gypsum 05 Gypsum Handling.json\n",
      "C:/EsscorFiles/Bowen1\\Dynsim_CMN\\19 Common 03 Makeup Water.json\n",
      "C:/EsscorFiles/Bowen1\\Dynsim_CMN\\19 Common 04 Sumps.json\n",
      "C:/EsscorFiles/Bowen1\\Dynsim_CMN\\19 Common 05 Return Water.json\n",
      "C:/EsscorFiles/Bowen1\\Dynsim_CMN\\19 Common 06 HLI 00 Silos.json\n",
      "C:/EsscorFiles/Bowen1\\Dynsim_CMN\\19 Common 06 HLI 01 Convey Lines.json\n",
      "C:/EsscorFiles/Bowen1\\Dynsim_CMN\\19 Common 06 HLI 02 Unloading.json\n",
      "C:/EsscorFiles/Bowen1\\Dynsim_CMN\\19 Common 06 HLI 03 Unloading BLowers.json\n",
      "C:/EsscorFiles/Bowen1\\Dynsim_CMN\\19 Common 06 HLI 04 Compressed Air.json\n",
      "C:/EsscorFiles/Bowen1\\Dynsim_CMN\\19 Common 07 Ammonia Storage.json\n",
      "C:/EsscorFiles/Bowen1\\engines.json\n",
      "C:/EsscorFiles/Bowen1\\homeflowsheet.json\n",
      "C:/EsscorFiles/Bowen1\\MAIN\\00 Electrical 00 Generator.json\n",
      "C:/EsscorFiles/Bowen1\\MAIN\\00 Electrical 01 U1 Electrical.json\n",
      "C:/EsscorFiles/Bowen1\\MAIN\\01 Steam_Cycle 00 Condenser.json\n",
      "C:/EsscorFiles/Bowen1\\MAIN\\01 Steam_Cycle 01 Condensate.json\n",
      "C:/EsscorFiles/Bowen1\\MAIN\\01 Steam_Cycle 02 LP Heaters.json\n",
      "C:/EsscorFiles/Bowen1\\MAIN\\01 Steam_Cycle 03 Deaerator.json\n",
      "C:/EsscorFiles/Bowen1\\MAIN\\01 Steam_Cycle 04 Feedwater.json\n",
      "C:/EsscorFiles/Bowen1\\MAIN\\01 Steam_Cycle 05 Boiler Waterwalls.json\n",
      "C:/EsscorFiles/Bowen1\\MAIN\\01 Steam_Cycle 06 Startup Separator.json\n",
      "C:/EsscorFiles/Bowen1\\MAIN\\01 Steam_Cycle 07 Superheat.json\n",
      "C:/EsscorFiles/Bowen1\\MAIN\\01 Steam_Cycle 08 HP Turbine.json\n",
      "C:/EsscorFiles/Bowen1\\MAIN\\01 Steam_Cycle 09 Reheat.json\n",
      "C:/EsscorFiles/Bowen1\\MAIN\\01 Steam_Cycle 10 IP Turbine.json\n",
      "C:/EsscorFiles/Bowen1\\MAIN\\01 Steam_Cycle 11 LP Turbines.json\n",
      "C:/EsscorFiles/Bowen1\\MAIN\\01 Steam_Cycle 12 BFP Turbines.json\n",
      "C:/EsscorFiles/Bowen1\\MAIN\\01 Steam_Cycle 13 Steam Seal System.json\n",
      "C:/EsscorFiles/Bowen1\\MAIN\\02 Air_Gas 00 Air Systems.json\n",
      "C:/EsscorFiles/Bowen1\\MAIN\\02 Air_Gas 01 Mills.json\n",
      "C:/EsscorFiles/Bowen1\\MAIN\\02 Air_Gas 02 Furnace.json\n",
      "C:/EsscorFiles/Bowen1\\MAIN\\02 Air_Gas 03 Ignitors.json\n",
      "C:/EsscorFiles/Bowen1\\MAIN\\02 Air_Gas 04 Flue Gas.json\n",
      "C:/EsscorFiles/Bowen1\\MAIN\\03 General_Service_Water 00 Coolers.json\n",
      "C:/EsscorFiles/Bowen1\\MAIN\\03 General_Service_Water 01 Circ Water.json\n",
      "C:/EsscorFiles/Bowen1\\MAIN\\04 Main_Turbine_Aux 00 Lube Oil.json\n",
      "C:/EsscorFiles/Bowen1\\MAIN\\04 Main_Turbine_Aux 01 EHC Oil.json\n",
      "C:/EsscorFiles/Bowen1\\MAIN\\04 Main_Turbine_Aux 02 Seal Oil.json\n",
      "C:/EsscorFiles/Bowen1\\MAIN\\04 Main_Turbine_Aux 03 Hydrogen.json\n",
      "C:/EsscorFiles/Bowen1\\MAIN\\04 Main_Turbine_Aux 04 Stator Cooling Water.json\n",
      "C:/EsscorFiles/Bowen1\\MAIN\\04 Main_Turbine_Aux 05 Vibrations.json\n",
      "C:/EsscorFiles/Bowen1\\MAIN\\05 BFPT_Aux 00 Lube Oil.json\n",
      "C:/EsscorFiles/Bowen1\\MAIN\\05 BFPT_Aux 01 EHC Oil.json\n",
      "C:/EsscorFiles/Bowen1\\MAIN\\06 FDF_Aux 00 Lube Oil.json\n",
      "C:/EsscorFiles/Bowen1\\MAIN\\07 IDF_Aux 00 Lube Oil.json\n",
      "C:/EsscorFiles/Bowen1\\MAIN\\08 IDBF_Aux.json\n",
      "C:/EsscorFiles/Bowen1\\MAIN\\09 Sootblowers.json\n",
      "C:/EsscorFiles/Bowen1\\MAIN\\10 Ammonia.json\n",
      "C:/EsscorFiles/Bowen1\\MAIN\\16 U1_Air_Compressors.json\n",
      "C:/EsscorFiles/Bowen1\\MAIN\\17 Water_Chemistry.json\n",
      "C:/EsscorFiles/Bowen1\\MAIN\\18 Modeling 00 Equations.json\n",
      "C:/EsscorFiles/Bowen1\\MAIN\\18 Modeling 03 Networks.json\n",
      "C:/EsscorFiles/Bowen1\\MAIN\\MAIN.threads.json\n",
      "C:/EsscorFiles/Bowen1\\MAIN\\_Hard Panel 00 Syncronization.json\n",
      "C:/EsscorFiles/Bowen1\\MAIN\\_Hard Panel 01 Turbine Drains.json\n",
      "C:/EsscorFiles/Bowen1\\MAIN\\__All U1 Instructor Functions.json\n",
      "C:/EsscorFiles/Bowen1\\MAIN\\___Essential U1 Instructor Functions.json\n",
      "C:/EsscorFiles/Bowen1\\MAIN\\____Static Validation.json\n",
      "C:/EsscorFiles/Bowen1\\pointDescriptions.json\n",
      "C:/EsscorFiles/Bowen1\\pointviews.json\n",
      "C:/EsscorFiles/Bowen1\\predefined_malfs.json\n",
      "C:/EsscorFiles/Bowen1\\scenarios.json\n",
      "C:/EsscorFiles/Bowen1\\snapshots.json\n",
      "C:/EsscorFiles/Bowen1\\systems.json\n",
      "C:/EsscorFiles/Bowen1\\training_exercises.json\n",
      "C:/EsscorFiles/Bowen1\\trends.json\n",
      "C:/EsscorFiles/Bowen1\\xrefs.json\n"
     ]
    }
   ],
   "source": [
    "jsons = []\n",
    "for entry in scantree(\"C:/EsscorFiles/Bowen1\"):\n",
    "    print(entry.path)\n",
    "    jsons.append(entry.path.replace(\"\\\\\", \"/\"))"
   ]
  },
  {
   "cell_type": "code",
   "execution_count": 67,
   "metadata": {},
   "outputs": [
    {
     "data": {
      "text/plain": [
       "'C:/EsscorFiles/Bowen1/AuxBoiler4/19 Common 08 Aux_Boiler 01 Auxiliary Boiler No 4.json'"
      ]
     },
     "execution_count": 67,
     "metadata": {},
     "output_type": "execute_result"
    }
   ],
   "source": [
    "os.path.join(jsons[0])"
   ]
  },
  {
   "cell_type": "code",
   "execution_count": 155,
   "metadata": {},
   "outputs": [
    {
     "name": "stdout",
     "output_type": "stream",
     "text": [
      "C:/EsscorFiles/Bowen1/AuxBoiler4/19 Common 08 Aux_Boiler 01 Auxiliary Boiler No 4.json\n",
      "C:/EsscorFiles/Bowen1/AuxBoiler4/19 Common 08 Aux_Boiler 02 Auxiliary Boiler No 4_Fuel.json\n",
      "C:/EsscorFiles/Bowen1/AuxBoiler4/19 Common 08 Aux_Boiler 04 Auxiliary Boiler No 4_SVal.json\n",
      "C:/EsscorFiles/Bowen1/AuxBoiler4/__All Common Instructor Functions.json\n",
      "C:/EsscorFiles/Bowen1/AuxBoiler4/___Essential Start Up Boiler No 4 Instructor Functions.json\n",
      "C:/EsscorFiles/Bowen1/data_historian.json\n",
      "no objects in json\n",
      "C:/EsscorFiles/Bowen1/Dynsim/18 Modeling 01 Furnace HMB.json\n",
      "C:/EsscorFiles/Bowen1/DynsimFGD/00 Electrical 02 Common Duplicate.json\n",
      "C:/EsscorFiles/Bowen1/DynsimFGD/14 Scrubber 00 JBR.json\n",
      "C:/EsscorFiles/Bowen1/DynsimFGD/14 Scrubber 01 Gas Cooling.json\n",
      "C:/EsscorFiles/Bowen1/DynsimFGD/14 Scrubber 02 Oxidation Air.json\n",
      "C:/EsscorFiles/Bowen1/DynsimFGD/14 Scrubber 03 Gypsum Drawoff.json\n",
      "C:/EsscorFiles/Bowen1/DynsimFGD/14 Scrubber 04 MRCS.json\n",
      "C:/EsscorFiles/Bowen1/DynsimFGD/15 Scrubber_Aux 00 Bearing Vib and Temp.json\n",
      "C:/EsscorFiles/Bowen1/DynsimFGD/15 Scrubber_Aux 01 Gas Cooling Lube Oil.json\n",
      "C:/EsscorFiles/Bowen1/DynsimFGD/15 Scrubber_Aux 02 Bypass Damper.json\n",
      "C:/EsscorFiles/Bowen1/Dynsim_AQC/11 SAMC 00 Day Bin.json\n",
      "C:/EsscorFiles/Bowen1/Dynsim_AQC/11 SAMC 01 Duct Injection.json\n",
      "C:/EsscorFiles/Bowen1/Dynsim_AQC/11 SAMC 02 Injection Blowers.json\n",
      "C:/EsscorFiles/Bowen1/Dynsim_AQC/12 ACI 00 ACI Feeders.json\n",
      "C:/EsscorFiles/Bowen1/Dynsim_AQC/12 ACI 01 Blowers.json\n",
      "C:/EsscorFiles/Bowen1/Dynsim_AQC/12 ACI 02 Duct Injection.json\n",
      "C:/EsscorFiles/Bowen1/Dynsim_AQC/13 HLI 00 Day Bins.json\n",
      "C:/EsscorFiles/Bowen1/Dynsim_AQC/13 HLI 01 Duct Injection.json\n",
      "C:/EsscorFiles/Bowen1/Dynsim_AQC/13 HLI 02 Injection Blowers.json\n",
      "C:/EsscorFiles/Bowen1/Dynsim_AQC/18 Modeling 02 Bus Dummy.json\n",
      "C:/EsscorFiles/Bowen1/Dynsim_AUX_Steam/19 Common 08 Aux_Boiler 00 Common Header.json\n",
      "C:/EsscorFiles/Bowen1/Dynsim_AUX_Steam/19 Common 08 Aux_Boiler 03 NH3 Storage.json\n",
      "C:/EsscorFiles/Bowen1/Dynsim_AUX_Steam/19 Common 08 Aux_Boiler 05 Auxiliary Boiler No 2.json\n",
      "C:/EsscorFiles/Bowen1/Dynsim_AUX_Steam/19 Common 08 Aux_Boiler 06 Auxiliary Boiler No 3.json\n",
      "C:/EsscorFiles/Bowen1/Dynsim_CMN/19 Common 00 Electrical.json\n",
      "C:/EsscorFiles/Bowen1/Dynsim_CMN/19 Common 01 Limestone 00 Limestone Hopper.json\n",
      "C:/EsscorFiles/Bowen1/Dynsim_CMN/19 Common 01 Limestone 01 Air Compressors.json\n",
      "C:/EsscorFiles/Bowen1/Dynsim_CMN/19 Common 01 Limestone 01 Limestone Conveyors.json\n",
      "C:/EsscorFiles/Bowen1/Dynsim_CMN/19 Common 01 Limestone 02 Limestone Feed A.json\n",
      "C:/EsscorFiles/Bowen1/Dynsim_CMN/19 Common 01 Limestone 03 Limestone Feed B.json\n",
      "C:/EsscorFiles/Bowen1/Dynsim_CMN/19 Common 01 Limestone 04 Limestone Feed C.json\n",
      "C:/EsscorFiles/Bowen1/Dynsim_CMN/19 Common 01 Limestone 05 Slurry Transfer.json\n",
      "C:/EsscorFiles/Bowen1/Dynsim_CMN/19 Common 01 Limestone 06 Slurry Storage.json\n",
      "C:/EsscorFiles/Bowen1/Dynsim_CMN/19 Common 01 Limestone 07 Ball Mill Lube Oil.json\n",
      "C:/EsscorFiles/Bowen1/Dynsim_CMN/19 Common 02 Gypsum 00 U1_2 Gypsum Transfer.json\n",
      "C:/EsscorFiles/Bowen1/Dynsim_CMN/19 Common 02 Gypsum 01 U3_4 Gypsum Transfer.json\n",
      "C:/EsscorFiles/Bowen1/Dynsim_CMN/19 Common 02 Gypsum 02 Filtered Water.json\n",
      "C:/EsscorFiles/Bowen1/Dynsim_CMN/19 Common 02 Gypsum 03 Dewatering A.json\n",
      "C:/EsscorFiles/Bowen1/Dynsim_CMN/19 Common 02 Gypsum 04 Dewatering B.json\n",
      "C:/EsscorFiles/Bowen1/Dynsim_CMN/19 Common 02 Gypsum 05 Gypsum Handling.json\n",
      "C:/EsscorFiles/Bowen1/Dynsim_CMN/19 Common 03 Makeup Water.json\n",
      "C:/EsscorFiles/Bowen1/Dynsim_CMN/19 Common 04 Sumps.json\n",
      "C:/EsscorFiles/Bowen1/Dynsim_CMN/19 Common 05 Return Water.json\n",
      "C:/EsscorFiles/Bowen1/Dynsim_CMN/19 Common 06 HLI 00 Silos.json\n",
      "C:/EsscorFiles/Bowen1/Dynsim_CMN/19 Common 06 HLI 01 Convey Lines.json\n",
      "C:/EsscorFiles/Bowen1/Dynsim_CMN/19 Common 06 HLI 02 Unloading.json\n",
      "C:/EsscorFiles/Bowen1/Dynsim_CMN/19 Common 06 HLI 03 Unloading BLowers.json\n",
      "C:/EsscorFiles/Bowen1/Dynsim_CMN/19 Common 06 HLI 04 Compressed Air.json\n",
      "C:/EsscorFiles/Bowen1/Dynsim_CMN/19 Common 07 Ammonia Storage.json\n",
      "C:/EsscorFiles/Bowen1/engines.json\n",
      "no objects in json\n",
      "C:/EsscorFiles/Bowen1/homeflowsheet.json\n",
      "no objects in json\n",
      "C:/EsscorFiles/Bowen1/MAIN/00 Electrical 00 Generator.json\n",
      "C:/EsscorFiles/Bowen1/MAIN/00 Electrical 01 U1 Electrical.json\n",
      "C:/EsscorFiles/Bowen1/MAIN/01 Steam_Cycle 00 Condenser.json\n",
      "C:/EsscorFiles/Bowen1/MAIN/01 Steam_Cycle 01 Condensate.json\n",
      "C:/EsscorFiles/Bowen1/MAIN/01 Steam_Cycle 02 LP Heaters.json\n",
      "C:/EsscorFiles/Bowen1/MAIN/01 Steam_Cycle 03 Deaerator.json\n",
      "C:/EsscorFiles/Bowen1/MAIN/01 Steam_Cycle 04 Feedwater.json\n",
      "C:/EsscorFiles/Bowen1/MAIN/01 Steam_Cycle 05 Boiler Waterwalls.json\n",
      "C:/EsscorFiles/Bowen1/MAIN/01 Steam_Cycle 06 Startup Separator.json\n",
      "C:/EsscorFiles/Bowen1/MAIN/01 Steam_Cycle 07 Superheat.json\n",
      "C:/EsscorFiles/Bowen1/MAIN/01 Steam_Cycle 08 HP Turbine.json\n",
      "C:/EsscorFiles/Bowen1/MAIN/01 Steam_Cycle 09 Reheat.json\n",
      "C:/EsscorFiles/Bowen1/MAIN/01 Steam_Cycle 10 IP Turbine.json\n",
      "C:/EsscorFiles/Bowen1/MAIN/01 Steam_Cycle 11 LP Turbines.json\n",
      "C:/EsscorFiles/Bowen1/MAIN/01 Steam_Cycle 12 BFP Turbines.json\n",
      "C:/EsscorFiles/Bowen1/MAIN/01 Steam_Cycle 13 Steam Seal System.json\n",
      "C:/EsscorFiles/Bowen1/MAIN/02 Air_Gas 00 Air Systems.json\n",
      "C:/EsscorFiles/Bowen1/MAIN/02 Air_Gas 01 Mills.json\n",
      "C:/EsscorFiles/Bowen1/MAIN/02 Air_Gas 02 Furnace.json\n",
      "C:/EsscorFiles/Bowen1/MAIN/02 Air_Gas 03 Ignitors.json\n",
      "C:/EsscorFiles/Bowen1/MAIN/02 Air_Gas 04 Flue Gas.json\n",
      "C:/EsscorFiles/Bowen1/MAIN/03 General_Service_Water 00 Coolers.json\n",
      "C:/EsscorFiles/Bowen1/MAIN/03 General_Service_Water 01 Circ Water.json\n",
      "C:/EsscorFiles/Bowen1/MAIN/04 Main_Turbine_Aux 00 Lube Oil.json\n",
      "C:/EsscorFiles/Bowen1/MAIN/04 Main_Turbine_Aux 01 EHC Oil.json\n",
      "C:/EsscorFiles/Bowen1/MAIN/04 Main_Turbine_Aux 02 Seal Oil.json\n",
      "C:/EsscorFiles/Bowen1/MAIN/04 Main_Turbine_Aux 03 Hydrogen.json\n",
      "C:/EsscorFiles/Bowen1/MAIN/04 Main_Turbine_Aux 04 Stator Cooling Water.json\n",
      "C:/EsscorFiles/Bowen1/MAIN/04 Main_Turbine_Aux 05 Vibrations.json\n",
      "C:/EsscorFiles/Bowen1/MAIN/05 BFPT_Aux 00 Lube Oil.json\n",
      "C:/EsscorFiles/Bowen1/MAIN/05 BFPT_Aux 01 EHC Oil.json\n",
      "C:/EsscorFiles/Bowen1/MAIN/06 FDF_Aux 00 Lube Oil.json\n",
      "C:/EsscorFiles/Bowen1/MAIN/07 IDF_Aux 00 Lube Oil.json\n",
      "C:/EsscorFiles/Bowen1/MAIN/08 IDBF_Aux.json\n",
      "C:/EsscorFiles/Bowen1/MAIN/09 Sootblowers.json\n",
      "C:/EsscorFiles/Bowen1/MAIN/10 Ammonia.json\n",
      "C:/EsscorFiles/Bowen1/MAIN/16 U1_Air_Compressors.json\n",
      "C:/EsscorFiles/Bowen1/MAIN/17 Water_Chemistry.json\n",
      "C:/EsscorFiles/Bowen1/MAIN/18 Modeling 00 Equations.json\n",
      "C:/EsscorFiles/Bowen1/MAIN/18 Modeling 03 Networks.json\n",
      "C:/EsscorFiles/Bowen1/MAIN/MAIN.threads.json\n",
      "no objects in json\n",
      "C:/EsscorFiles/Bowen1/MAIN/_Hard Panel 00 Syncronization.json\n",
      "C:/EsscorFiles/Bowen1/MAIN/_Hard Panel 01 Turbine Drains.json\n",
      "C:/EsscorFiles/Bowen1/MAIN/__All U1 Instructor Functions.json\n",
      "C:/EsscorFiles/Bowen1/MAIN/___Essential U1 Instructor Functions.json\n",
      "C:/EsscorFiles/Bowen1/MAIN/____Static Validation.json\n",
      "C:/EsscorFiles/Bowen1/pointDescriptions.json\n",
      "no objects in json\n",
      "C:/EsscorFiles/Bowen1/pointviews.json\n",
      "no objects in json\n",
      "C:/EsscorFiles/Bowen1/predefined_malfs.json\n",
      "no objects in json\n",
      "C:/EsscorFiles/Bowen1/scenarios.json\n",
      "no objects in json\n",
      "C:/EsscorFiles/Bowen1/snapshots.json\n",
      "no objects in json\n",
      "C:/EsscorFiles/Bowen1/systems.json\n",
      "no objects in json\n",
      "C:/EsscorFiles/Bowen1/training_exercises.json\n",
      "no objects in json\n",
      "C:/EsscorFiles/Bowen1/trends.json\n",
      "no objects in json\n",
      "C:/EsscorFiles/Bowen1/xrefs.json\n",
      "this is a xref\n",
      "[('!SR_ST_TRIP_RELAY.OUT', 'V_ST_OPC_B.MP'),\n",
      " ('!SR_ST_TRIP_RELAY.OUT', 'V_ST_OPC_A.MP'),\n",
      " ('!SR_ST_TRIP_RELAY.OUT', 'V_ST_AST_B2.MP'),\n",
      " ('!SR_ST_TRIP_RELAY.OUT', 'V_ST_AST_A2.MP'),\n",
      " ('!SR_ST_TRIP_RELAY.OUT', 'V_ST_AST_B1.MP'),\n",
      " ('!SR_ST_TRIP_RELAY.OUT', 'V_ST_AST_A1.MP'),\n",
      " ('SR_ST_TRIP_RELAY.RESET', 'ST_RESET_CMD'),\n",
      " ('SR_ST_TRIP_RELAY.SET', 'OR_ST_TRIP_CMD.OUT'),\n",
      " ('SR_ST_TRIP_RELAY.OUTR', '1TURB25:FDZNTD3001A.FBCIN'),\n",
      " ('SR_ST_TRIP_RELAY.OUTR', '1TURB25:FDZNTD3001B.FBCIN'),\n",
      " ('SR_ST_TRIP_RELAY.OUTR', '1TURB25:FDZNTD3001C.FBCIN'),\n",
      " ('SR_ST_TRIP_RELAY.OUT', '01_MTA1:XG01HW:0:3176'),\n",
      " ('SR_ST_TRIP_RELAY.OUT', '01_MTA2:XG01HW:0:3384'),\n",
      " ('SR_ST_TRIP_RELAY.OUT', '01_MTB1:XG01HW:0:3750'),\n",
      " ('SR_ST_TRIP_RELAY.OUT', '01_MTB2:XG01HW:0:3862')]\n"
     ]
    }
   ],
   "source": [
    "parameters_used = []\n",
    "for json_i in jsons:\n",
    "    mypath = os.path.join(json_i)\n",
    "    print(mypath)\n",
    "    with open(json_i) as jsonfile:\n",
    "        json_dict = json.load(jsonfile)\n",
    "        \n",
    "        \n",
    "        try: #\n",
    "            for object_i in json_dict['objects']:\n",
    "                \n",
    "                # If we're looking at the model object definition look for paramters which have something set\n",
    "                if object_i[\"name\"] == model_object:\n",
    "                    for param in object_i[\"params\"]:\n",
    "                        try: \n",
    "                            assignment = param[\"asgmt\"]\n",
    "                            parameters_used.append((model_object + \".\" + param[\"name\"], assignment))\n",
    "                        \n",
    "                        except:\n",
    "                            \n",
    "                            pass\n",
    "            \n",
    "                        try:\n",
    "                            equation = param[\"eqn\"]\n",
    "                            parameters_used.append((model_object + \".\" + param[\"name\"], equation))\n",
    "                        \n",
    "                        except:\n",
    "                            \n",
    "                            pass\n",
    "\n",
    "                # If we're looking at any other model object, \n",
    "                else:\n",
    "                    try:\n",
    "                        # Search all params \n",
    "                        for param in object_i[\"params\"]:\n",
    "                            for value_i in param.values(): # for values that contain the model object\n",
    "                                mystr = str(value_i)\n",
    "                                if mystr.find(model_object) != -1: # if a match is found\n",
    "                                    #parameters_used.append((param, object_i[\"name\"]))\n",
    "                                    try:\n",
    "                                        parameters_used.append((param[\"eqn\"], object_i[\"name\"] + \".\" + str(param[\"name\"])))\n",
    "                                    except:\n",
    "                                        pass\n",
    "                                    try:\n",
    "                                        parameters_used.append((param[\"asgmt\"], object_i[\"name\"] + \".\" + str(param[\"name\"])))\n",
    "                                    except:\n",
    "                                        pass\n",
    "\n",
    "                    except:\n",
    "                        print(\"something went awry\")\n",
    "                    \n",
    "                        \n",
    "                        \n",
    "        except:\n",
    "            if os.path.split(json_i)[1] == \"xrefs.json\":\n",
    "                try:\n",
    "                    print(\"this is a xref\")\n",
    "                    for analog in json_dict[\"analog\"]:\n",
    "                        for value_i in analog.values():\n",
    "                            mystr = str(value_i)\n",
    "                            if mystr.find(model_object) != -1:\n",
    "                                parameters_used.append((mystr, analog[\"toSym\"]))\n",
    "                    for digital in json_dict[\"digital\"]:\n",
    "                        for value_i in digital.values():\n",
    "                            mystr = str(value_i)\n",
    "                            if mystr.find(model_object) != -1:\n",
    "                                parameters_used.append((mystr, digital[\"toSym\"]))\n",
    "                except:\n",
    "                    print(\"something went awry\")\n",
    "            else:\n",
    "                print(\"no objects in json\")\n",
    "\n",
    "pprint(parameters_used)"
   ]
  },
  {
   "cell_type": "code",
   "execution_count": 172,
   "metadata": {},
   "outputs": [
    {
     "name": "stdout",
     "output_type": "stream",
     "text": [
      "['SR_ST_TRIP_RELAY.OUT', '!SR_ST_TRIP_RELAY.OUT', 'SR_ST_TRIP_RELAY.RESET', 'SR_ST_TRIP_RELAY.OUTR', 'SR_ST_TRIP_RELAY.SET']\n"
     ]
    }
   ],
   "source": [
    "chart_dict = {\"name\" : model_object}\n",
    "children = []\n",
    "matches = list(set([x for x,y in parameters_used]))\n",
    "print(matches)"
   ]
  },
  {
   "cell_type": "code",
   "execution_count": 179,
   "metadata": {},
   "outputs": [
    {
     "name": "stdout",
     "output_type": "stream",
     "text": [
      "[{'name': '01_MTA1:XG01HW:0:3176'}, {'name': '01_MTA2:XG01HW:0:3384'}, {'name': '01_MTB1:XG01HW:0:3750'}, {'name': '01_MTB2:XG01HW:0:3862'}]\n"
     ]
    }
   ],
   "source": [
    "some_list = [{\"name\" : match[1]} for match in parameters_used if match[0] == matches[0]]\n",
    "print(some_list)"
   ]
  },
  {
   "cell_type": "code",
   "execution_count": 185,
   "metadata": {},
   "outputs": [
    {
     "name": "stdout",
     "output_type": "stream",
     "text": [
      "SR_ST_TRIP_RELAY.OUT\n",
      "!SR_ST_TRIP_RELAY.OUT\n",
      "SR_ST_TRIP_RELAY.RESET\n",
      "SR_ST_TRIP_RELAY.OUTR\n",
      "SR_ST_TRIP_RELAY.SET\n"
     ]
    }
   ],
   "source": [
    "my_list = []\n",
    "for match_i in matches:\n",
    "    print(match_i)\n",
    "    dictionary = {\n",
    "        \"name\": match_i,\n",
    "        \"children\" : [{\"name\": connection[1]} for connection in parameters_used if connection[0] == match_i]\n",
    "    }\n",
    "    my_list.append(dictionary)"
   ]
  },
  {
   "cell_type": "code",
   "execution_count": 184,
   "metadata": {},
   "outputs": [
    {
     "name": "stdout",
     "output_type": "stream",
     "text": [
      "[{'children': [{'name': '01_MTA1:XG01HW:0:3176'},\n",
      "               {'name': '01_MTA2:XG01HW:0:3384'},\n",
      "               {'name': '01_MTB1:XG01HW:0:3750'},\n",
      "               {'name': '01_MTB2:XG01HW:0:3862'}],\n",
      "  'name': 'SR_ST_TRIP_RELAY.OUT'},\n",
      " {'children': [{'name': 'V_ST_OPC_B.MP'},\n",
      "               {'name': 'V_ST_OPC_A.MP'},\n",
      "               {'name': 'V_ST_AST_B2.MP'},\n",
      "               {'name': 'V_ST_AST_A2.MP'},\n",
      "               {'name': 'V_ST_AST_B1.MP'},\n",
      "               {'name': 'V_ST_AST_A1.MP'}],\n",
      "  'name': '!SR_ST_TRIP_RELAY.OUT'},\n",
      " {'children': [{'name': 'ST_RESET_CMD'}], 'name': 'SR_ST_TRIP_RELAY.RESET'},\n",
      " {'children': [{'name': '1TURB25:FDZNTD3001A.FBCIN'},\n",
      "               {'name': '1TURB25:FDZNTD3001B.FBCIN'},\n",
      "               {'name': '1TURB25:FDZNTD3001C.FBCIN'}],\n",
      "  'name': 'SR_ST_TRIP_RELAY.OUTR'},\n",
      " {'children': [{'name': 'OR_ST_TRIP_CMD.OUT'}], 'name': 'SR_ST_TRIP_RELAY.SET'}]\n"
     ]
    }
   ],
   "source": [
    "pprint(my_list)"
   ]
  },
  {
   "cell_type": "code",
   "execution_count": 187,
   "metadata": {},
   "outputs": [
    {
     "name": "stdout",
     "output_type": "stream",
     "text": [
      "{'children': [{'children': [{'name': '01_MTA1:XG01HW:0:3176'},\n",
      "                            {'name': '01_MTA2:XG01HW:0:3384'},\n",
      "                            {'name': '01_MTB1:XG01HW:0:3750'},\n",
      "                            {'name': '01_MTB2:XG01HW:0:3862'}],\n",
      "               'name': 'SR_ST_TRIP_RELAY.OUT'},\n",
      "              {'children': [{'name': 'V_ST_OPC_B.MP'},\n",
      "                            {'name': 'V_ST_OPC_A.MP'},\n",
      "                            {'name': 'V_ST_AST_B2.MP'},\n",
      "                            {'name': 'V_ST_AST_A2.MP'},\n",
      "                            {'name': 'V_ST_AST_B1.MP'},\n",
      "                            {'name': 'V_ST_AST_A1.MP'}],\n",
      "               'name': '!SR_ST_TRIP_RELAY.OUT'},\n",
      "              {'children': [{'name': 'ST_RESET_CMD'}],\n",
      "               'name': 'SR_ST_TRIP_RELAY.RESET'},\n",
      "              {'children': [{'name': '1TURB25:FDZNTD3001A.FBCIN'},\n",
      "                            {'name': '1TURB25:FDZNTD3001B.FBCIN'},\n",
      "                            {'name': '1TURB25:FDZNTD3001C.FBCIN'}],\n",
      "               'name': 'SR_ST_TRIP_RELAY.OUTR'},\n",
      "              {'children': [{'name': 'OR_ST_TRIP_CMD.OUT'}],\n",
      "               'name': 'SR_ST_TRIP_RELAY.SET'}],\n",
      " 'name': 'SR_ST_TRIP_RELAY'}\n"
     ]
    }
   ],
   "source": [
    "master_dict = {\n",
    "    \"name\" : model_object,\n",
    "    \"children\" : my_list\n",
    "}\n",
    "pprint(master_dict)"
   ]
  },
  {
   "cell_type": "code",
   "execution_count": 188,
   "metadata": {},
   "outputs": [],
   "source": [
    "with open('data.json', 'w') as f:\n",
    "    json.dump(master_dict, f)"
   ]
  },
  {
   "cell_type": "code",
   "execution_count": 26,
   "metadata": {},
   "outputs": [
    {
     "name": "stdout",
     "output_type": "stream",
     "text": [
      "specify and model object nameSR_ST_TRIP_RELAY\n"
     ]
    }
   ],
   "source": [
    "model_object = input(\"specify and model object name\")"
   ]
  },
  {
   "cell_type": "code",
   "execution_count": 27,
   "metadata": {},
   "outputs": [],
   "source": [
    "chart_dict = {\"name\" : model_object}"
   ]
  },
  {
   "cell_type": "code",
   "execution_count": null,
   "metadata": {},
   "outputs": [],
   "source": [
    "# search for the model object"
   ]
  }
 ],
 "metadata": {
  "kernelspec": {
   "display_name": "Python 3",
   "language": "python",
   "name": "python3"
  },
  "language_info": {
   "codemirror_mode": {
    "name": "ipython",
    "version": 3
   },
   "file_extension": ".py",
   "mimetype": "text/x-python",
   "name": "python",
   "nbconvert_exporter": "python",
   "pygments_lexer": "ipython3",
   "version": "3.7.3"
  }
 },
 "nbformat": 4,
 "nbformat_minor": 2
}
